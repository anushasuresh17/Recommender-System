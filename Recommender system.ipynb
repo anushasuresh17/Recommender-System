{
 "cells": [
  {
   "cell_type": "code",
   "execution_count": 1,
   "id": "2a3822bc",
   "metadata": {},
   "outputs": [],
   "source": [
    "import numpy as np\n",
    "import pandas as pd\n",
    "import matplotlib.pyplot as plt\n",
    "import seaborn as sns\n",
    "import warnings\n",
    "warnings.filterwarnings(\"ignore\")"
   ]
  },
  {
   "cell_type": "code",
   "execution_count": 2,
   "id": "781e0525",
   "metadata": {},
   "outputs": [],
   "source": [
    "data = pd.read_csv(\"shopping_behavior_updated.csv\")"
   ]
  },
  {
   "cell_type": "markdown",
   "id": "e00ec612",
   "metadata": {},
   "source": [
    "### Understanding the data "
   ]
  },
  {
   "cell_type": "code",
   "execution_count": 3,
   "id": "9e7c0819",
   "metadata": {},
   "outputs": [
    {
     "data": {
      "text/html": [
       "<div>\n",
       "<style scoped>\n",
       "    .dataframe tbody tr th:only-of-type {\n",
       "        vertical-align: middle;\n",
       "    }\n",
       "\n",
       "    .dataframe tbody tr th {\n",
       "        vertical-align: top;\n",
       "    }\n",
       "\n",
       "    .dataframe thead th {\n",
       "        text-align: right;\n",
       "    }\n",
       "</style>\n",
       "<table border=\"1\" class=\"dataframe\">\n",
       "  <thead>\n",
       "    <tr style=\"text-align: right;\">\n",
       "      <th></th>\n",
       "      <th>Customer ID</th>\n",
       "      <th>Age</th>\n",
       "      <th>Gender</th>\n",
       "      <th>Item Purchased</th>\n",
       "      <th>Category</th>\n",
       "      <th>Purchase Amount (USD)</th>\n",
       "      <th>Location</th>\n",
       "      <th>Size</th>\n",
       "      <th>Color</th>\n",
       "      <th>Season</th>\n",
       "      <th>Review Rating</th>\n",
       "      <th>Subscription Status</th>\n",
       "      <th>Shipping Type</th>\n",
       "      <th>Discount Applied</th>\n",
       "      <th>Promo Code Used</th>\n",
       "      <th>Previous Purchases</th>\n",
       "      <th>Payment Method</th>\n",
       "      <th>Frequency of Purchases</th>\n",
       "    </tr>\n",
       "  </thead>\n",
       "  <tbody>\n",
       "    <tr>\n",
       "      <th>0</th>\n",
       "      <td>1</td>\n",
       "      <td>55</td>\n",
       "      <td>Male</td>\n",
       "      <td>Blouse</td>\n",
       "      <td>Clothing</td>\n",
       "      <td>53</td>\n",
       "      <td>Kentucky</td>\n",
       "      <td>L</td>\n",
       "      <td>Gray</td>\n",
       "      <td>Winter</td>\n",
       "      <td>3.1</td>\n",
       "      <td>Yes</td>\n",
       "      <td>Express</td>\n",
       "      <td>Yes</td>\n",
       "      <td>Yes</td>\n",
       "      <td>14</td>\n",
       "      <td>Venmo</td>\n",
       "      <td>Fortnightly</td>\n",
       "    </tr>\n",
       "    <tr>\n",
       "      <th>1</th>\n",
       "      <td>2</td>\n",
       "      <td>19</td>\n",
       "      <td>Male</td>\n",
       "      <td>Sweater</td>\n",
       "      <td>Clothing</td>\n",
       "      <td>64</td>\n",
       "      <td>Maine</td>\n",
       "      <td>L</td>\n",
       "      <td>Maroon</td>\n",
       "      <td>Winter</td>\n",
       "      <td>3.1</td>\n",
       "      <td>Yes</td>\n",
       "      <td>Express</td>\n",
       "      <td>Yes</td>\n",
       "      <td>Yes</td>\n",
       "      <td>2</td>\n",
       "      <td>Cash</td>\n",
       "      <td>Fortnightly</td>\n",
       "    </tr>\n",
       "    <tr>\n",
       "      <th>2</th>\n",
       "      <td>3</td>\n",
       "      <td>50</td>\n",
       "      <td>Male</td>\n",
       "      <td>Jeans</td>\n",
       "      <td>Clothing</td>\n",
       "      <td>73</td>\n",
       "      <td>Massachusetts</td>\n",
       "      <td>S</td>\n",
       "      <td>Maroon</td>\n",
       "      <td>Spring</td>\n",
       "      <td>3.1</td>\n",
       "      <td>Yes</td>\n",
       "      <td>Free Shipping</td>\n",
       "      <td>Yes</td>\n",
       "      <td>Yes</td>\n",
       "      <td>23</td>\n",
       "      <td>Credit Card</td>\n",
       "      <td>Weekly</td>\n",
       "    </tr>\n",
       "    <tr>\n",
       "      <th>3</th>\n",
       "      <td>4</td>\n",
       "      <td>21</td>\n",
       "      <td>Male</td>\n",
       "      <td>Sandals</td>\n",
       "      <td>Footwear</td>\n",
       "      <td>90</td>\n",
       "      <td>Rhode Island</td>\n",
       "      <td>M</td>\n",
       "      <td>Maroon</td>\n",
       "      <td>Spring</td>\n",
       "      <td>3.5</td>\n",
       "      <td>Yes</td>\n",
       "      <td>Next Day Air</td>\n",
       "      <td>Yes</td>\n",
       "      <td>Yes</td>\n",
       "      <td>49</td>\n",
       "      <td>PayPal</td>\n",
       "      <td>Weekly</td>\n",
       "    </tr>\n",
       "    <tr>\n",
       "      <th>4</th>\n",
       "      <td>5</td>\n",
       "      <td>45</td>\n",
       "      <td>Male</td>\n",
       "      <td>Blouse</td>\n",
       "      <td>Clothing</td>\n",
       "      <td>49</td>\n",
       "      <td>Oregon</td>\n",
       "      <td>M</td>\n",
       "      <td>Turquoise</td>\n",
       "      <td>Spring</td>\n",
       "      <td>2.7</td>\n",
       "      <td>Yes</td>\n",
       "      <td>Free Shipping</td>\n",
       "      <td>Yes</td>\n",
       "      <td>Yes</td>\n",
       "      <td>31</td>\n",
       "      <td>PayPal</td>\n",
       "      <td>Annually</td>\n",
       "    </tr>\n",
       "  </tbody>\n",
       "</table>\n",
       "</div>"
      ],
      "text/plain": [
       "   Customer ID  Age Gender Item Purchased  Category  Purchase Amount (USD)  \\\n",
       "0            1   55   Male         Blouse  Clothing                     53   \n",
       "1            2   19   Male        Sweater  Clothing                     64   \n",
       "2            3   50   Male          Jeans  Clothing                     73   \n",
       "3            4   21   Male        Sandals  Footwear                     90   \n",
       "4            5   45   Male         Blouse  Clothing                     49   \n",
       "\n",
       "        Location Size      Color  Season  Review Rating Subscription Status  \\\n",
       "0       Kentucky    L       Gray  Winter            3.1                 Yes   \n",
       "1          Maine    L     Maroon  Winter            3.1                 Yes   \n",
       "2  Massachusetts    S     Maroon  Spring            3.1                 Yes   \n",
       "3   Rhode Island    M     Maroon  Spring            3.5                 Yes   \n",
       "4         Oregon    M  Turquoise  Spring            2.7                 Yes   \n",
       "\n",
       "   Shipping Type Discount Applied Promo Code Used  Previous Purchases  \\\n",
       "0        Express              Yes             Yes                  14   \n",
       "1        Express              Yes             Yes                   2   \n",
       "2  Free Shipping              Yes             Yes                  23   \n",
       "3   Next Day Air              Yes             Yes                  49   \n",
       "4  Free Shipping              Yes             Yes                  31   \n",
       "\n",
       "  Payment Method Frequency of Purchases  \n",
       "0          Venmo            Fortnightly  \n",
       "1           Cash            Fortnightly  \n",
       "2    Credit Card                 Weekly  \n",
       "3         PayPal                 Weekly  \n",
       "4         PayPal               Annually  "
      ]
     },
     "execution_count": 3,
     "metadata": {},
     "output_type": "execute_result"
    }
   ],
   "source": [
    "data.head()"
   ]
  },
  {
   "cell_type": "code",
   "execution_count": 4,
   "id": "b0cf69f5",
   "metadata": {},
   "outputs": [
    {
     "name": "stdout",
     "output_type": "stream",
     "text": [
      "<class 'pandas.core.frame.DataFrame'>\n",
      "RangeIndex: 3900 entries, 0 to 3899\n",
      "Data columns (total 18 columns):\n",
      " #   Column                  Non-Null Count  Dtype  \n",
      "---  ------                  --------------  -----  \n",
      " 0   Customer ID             3900 non-null   int64  \n",
      " 1   Age                     3900 non-null   int64  \n",
      " 2   Gender                  3900 non-null   object \n",
      " 3   Item Purchased          3900 non-null   object \n",
      " 4   Category                3900 non-null   object \n",
      " 5   Purchase Amount (USD)   3900 non-null   int64  \n",
      " 6   Location                3900 non-null   object \n",
      " 7   Size                    3900 non-null   object \n",
      " 8   Color                   3900 non-null   object \n",
      " 9   Season                  3900 non-null   object \n",
      " 10  Review Rating           3900 non-null   float64\n",
      " 11  Subscription Status     3900 non-null   object \n",
      " 12  Shipping Type           3900 non-null   object \n",
      " 13  Discount Applied        3900 non-null   object \n",
      " 14  Promo Code Used         3900 non-null   object \n",
      " 15  Previous Purchases      3900 non-null   int64  \n",
      " 16  Payment Method          3900 non-null   object \n",
      " 17  Frequency of Purchases  3900 non-null   object \n",
      "dtypes: float64(1), int64(4), object(13)\n",
      "memory usage: 548.6+ KB\n"
     ]
    }
   ],
   "source": [
    "data.info()"
   ]
  },
  {
   "cell_type": "code",
   "execution_count": 5,
   "id": "5faf5f20",
   "metadata": {},
   "outputs": [
    {
     "data": {
      "text/plain": [
       "Customer ID               0\n",
       "Age                       0\n",
       "Gender                    0\n",
       "Item Purchased            0\n",
       "Category                  0\n",
       "Purchase Amount (USD)     0\n",
       "Location                  0\n",
       "Size                      0\n",
       "Color                     0\n",
       "Season                    0\n",
       "Review Rating             0\n",
       "Subscription Status       0\n",
       "Shipping Type             0\n",
       "Discount Applied          0\n",
       "Promo Code Used           0\n",
       "Previous Purchases        0\n",
       "Payment Method            0\n",
       "Frequency of Purchases    0\n",
       "dtype: int64"
      ]
     },
     "execution_count": 5,
     "metadata": {},
     "output_type": "execute_result"
    }
   ],
   "source": [
    "data.isnull().sum()"
   ]
  },
  {
   "cell_type": "markdown",
   "id": "82265fd6",
   "metadata": {},
   "source": [
    "#### Encoding categorical Variables"
   ]
  },
  {
   "cell_type": "markdown",
   "id": "45bc551d",
   "metadata": {},
   "source": [
    "For content based filtering, need to combine textual features\n",
    "\n",
    "For collaborative filtering, using the surprice library use customer id, item purchased and review rating"
   ]
  },
  {
   "cell_type": "code",
   "execution_count": 6,
   "id": "76a50f7c",
   "metadata": {},
   "outputs": [],
   "source": [
    "# For Content-Based Filtering\n",
    "# No need to encode categorical variables yet; we'll combine them into a text field.\n",
    "\n",
    "# For Collaborative Filtering\n",
    "# Ensure 'Review Rating' is present and suitable for use as ratings.\n"
   ]
  },
  {
   "cell_type": "markdown",
   "id": "e1ce21de",
   "metadata": {},
   "source": [
    "## Content Based filtering"
   ]
  },
  {
   "cell_type": "markdown",
   "id": "383ce922",
   "metadata": {},
   "source": [
    "#### Feature engineering"
   ]
  },
  {
   "cell_type": "code",
   "execution_count": 7,
   "id": "fd65109c",
   "metadata": {},
   "outputs": [],
   "source": [
    "# Combine relevant item attributes to create a single string that represents each item"
   ]
  },
  {
   "cell_type": "code",
   "execution_count": 8,
   "id": "4be6ffaf",
   "metadata": {},
   "outputs": [],
   "source": [
    "# Step 1: Combine relevant features into a single 'combined_features' column\n",
    "def combine_features(row):\n",
    "    return row['Item Purchased'] + ' ' + row['Category'] + ' ' + row['Color'] + ' ' + row['Size']\n",
    "\n",
    "# Apply the function to create the 'combined_features' column\n",
    "data['combined_features'] = data.apply(combine_features, axis=1)"
   ]
  },
  {
   "cell_type": "markdown",
   "id": "d167ef4b",
   "metadata": {},
   "source": [
    "#### Vectorization and similarity calculation"
   ]
  },
  {
   "cell_type": "markdown",
   "id": "0d619171",
   "metadata": {},
   "source": [
    "Using TF-IDF vectorizer to convert the text data into numerical features and calculate cosine similarity between items"
   ]
  },
  {
   "cell_type": "code",
   "execution_count": 9,
   "id": "47fec2dc",
   "metadata": {},
   "outputs": [],
   "source": [
    "from sklearn.feature_extraction.text import TfidfVectorizer\n",
    "from sklearn.metrics.pairwise import cosine_similarity"
   ]
  },
  {
   "cell_type": "code",
   "execution_count": 10,
   "id": "fe1fa5af",
   "metadata": {},
   "outputs": [
    {
     "name": "stdout",
     "output_type": "stream",
     "text": [
      "Cosine Similarity Matrix Shape: (3900, 3900)\n"
     ]
    }
   ],
   "source": [
    "# Initialize TF-IDF vectorizer \n",
    "tfidf = TfidfVectorizer(stop_words='english')\n",
    "\n",
    "# Fit and transform the combined features\n",
    "tfidf_matrix = tfidf.fit_transform(data['combined_features'])\n",
    "\n",
    "# compute cosine similarity matrix\n",
    "cosine_sim = cosine_similarity(tfidf_matrix,tfidf_matrix)\n",
    "\n",
    "# create a reverse mapping of indices and item names\n",
    "indices = pd.Series(data.index, index=data['Item Purchased'].str.lower()).drop_duplicates()\n",
    "\n",
    "print(\"Cosine Similarity Matrix Shape:\", cosine_sim.shape)"
   ]
  },
  {
   "cell_type": "markdown",
   "id": "94aeb2e0",
   "metadata": {},
   "source": [
    "### Recommendation Function"
   ]
  },
  {
   "cell_type": "markdown",
   "id": "8bc10521",
   "metadata": {},
   "source": [
    "Creating a function that takes an \"Item Purchased\" as input and returns similar items"
   ]
  },
  {
   "cell_type": "code",
   "execution_count": 20,
   "id": "2b5cebf7",
   "metadata": {},
   "outputs": [
    {
     "name": "stdout",
     "output_type": "stream",
     "text": [
      "Recommended Items ['Jeans', 'Jeans', 'Jeans', 'Jeans', 'Jeans']\n"
     ]
    }
   ],
   "source": [
    "def get_content_based_recommendation(item, cosine_sim = cosine_sim):\n",
    "    item = item.lower()\n",
    "    if item not in indices:\n",
    "        print(f\"'{item}' not found in the dataset.\")\n",
    "        return []\n",
    "    \n",
    "    # get the index of the item of the first occurance of the item\n",
    "    idx = indices[item].iloc[0]\n",
    "   \n",
    "    \n",
    "    #Get the pairwise similarity scores for that item\n",
    "    sim_scores = list(enumerate(cosine_sim[idx]))\n",
    "\n",
    "    \n",
    "    #Sort based on similarity scores\n",
    "    sim_scores = sorted(sim_scores, key = lambda x:x[1], reverse=True)\n",
    "    \n",
    "    # get the scores of the top 5 similar items (excluding iteslf)\n",
    "    sim_scores = sim_scores[1:6]\n",
    "    \n",
    "    # get the item indices\n",
    "    item_indices = [i[0] for i in sim_scores]\n",
    "    \n",
    "    # return the top 5 similar items\n",
    "    return data['Item Purchased'].iloc[item_indices]\n",
    "\n",
    "#Example usage\n",
    "recommended_items = get_content_based_recommendation('jeans')\n",
    "print(\"Recommended Items\", recommended_items.tolist())\n",
    "\n"
   ]
  },
  {
   "cell_type": "code",
   "execution_count": 19,
   "id": "bfbe60a5",
   "metadata": {},
   "outputs": [
    {
     "name": "stdout",
     "output_type": "stream",
     "text": [
      "Recommended Items ['Blouse', 'Blouse', 'Blouse', 'Blouse', 'Blouse']\n"
     ]
    }
   ],
   "source": [
    "def get_content_based_recommendation(item, cosine_sim=cosine_sim):\n",
    "    item = item.lower()  # Convert the item to lowercase for matching\n",
    "    if item not in indices:\n",
    "        print(f\"'{item}' not found in the dataset.\")\n",
    "        return []\n",
    "    \n",
    "    # Get all indices of the item\n",
    "    idx_list = indices[item]\n",
    "    \n",
    "    # Aggregate the similarity scores by averaging across all indices\n",
    "    agg_sim_scores = cosine_sim[idx_list].mean(axis=0)\n",
    "    \n",
    "    # Get the pairwise similarity scores for the aggregated result\n",
    "    sim_scores = list(enumerate(agg_sim_scores))\n",
    "   \n",
    "\n",
    "    # Sort the items based on similarity scores\n",
    "    sim_scores = sorted(sim_scores, key=lambda x: x[1], reverse=True)\n",
    "    \n",
    "    # Get the scores of the top 5 similar items (excluding the input item itself)\n",
    "    sim_scores = sim_scores[1:6]\n",
    "    \n",
    "    # Get the item indices\n",
    "    item_indices = [i[0] for i in sim_scores]\n",
    "    \n",
    "    # Return the top 5 most similar items\n",
    "    return data['Item Purchased'].iloc[item_indices]\n",
    "\n",
    "#Example usage\n",
    "recommended_items = get_content_based_recommendation('blouse')\n",
    "print(\"Recommended Items\", recommended_items.tolist())\n"
   ]
  },
  {
   "cell_type": "markdown",
   "id": "53049f99",
   "metadata": {},
   "source": [
    "## Collaborative filtering"
   ]
  },
  {
   "cell_type": "markdown",
   "id": "9585edad",
   "metadata": {},
   "source": [
    "Recommends filtering recommends items based on user interactions. Here I'm using surprise library for this purpose"
   ]
  },
  {
   "cell_type": "markdown",
   "id": "649e56b1",
   "metadata": {},
   "source": [
    "#### Preparing the user-item matrix"
   ]
  },
  {
   "cell_type": "markdown",
   "id": "52436d83",
   "metadata": {},
   "source": [
    "Using customer id, item purchased and review rating as the primary features for collaborative filtering"
   ]
  },
  {
   "cell_type": "code",
   "execution_count": 21,
   "id": "f562f1ea",
   "metadata": {},
   "outputs": [
    {
     "data": {
      "text/html": [
       "<div>\n",
       "<style scoped>\n",
       "    .dataframe tbody tr th:only-of-type {\n",
       "        vertical-align: middle;\n",
       "    }\n",
       "\n",
       "    .dataframe tbody tr th {\n",
       "        vertical-align: top;\n",
       "    }\n",
       "\n",
       "    .dataframe thead th {\n",
       "        text-align: right;\n",
       "    }\n",
       "</style>\n",
       "<table border=\"1\" class=\"dataframe\">\n",
       "  <thead>\n",
       "    <tr style=\"text-align: right;\">\n",
       "      <th></th>\n",
       "      <th>Customer ID</th>\n",
       "      <th>Item Purchased</th>\n",
       "      <th>Review Rating</th>\n",
       "    </tr>\n",
       "  </thead>\n",
       "  <tbody>\n",
       "    <tr>\n",
       "      <th>0</th>\n",
       "      <td>1</td>\n",
       "      <td>Blouse</td>\n",
       "      <td>3.1</td>\n",
       "    </tr>\n",
       "    <tr>\n",
       "      <th>1</th>\n",
       "      <td>2</td>\n",
       "      <td>Sweater</td>\n",
       "      <td>3.1</td>\n",
       "    </tr>\n",
       "    <tr>\n",
       "      <th>2</th>\n",
       "      <td>3</td>\n",
       "      <td>Jeans</td>\n",
       "      <td>3.1</td>\n",
       "    </tr>\n",
       "    <tr>\n",
       "      <th>3</th>\n",
       "      <td>4</td>\n",
       "      <td>Sandals</td>\n",
       "      <td>3.5</td>\n",
       "    </tr>\n",
       "    <tr>\n",
       "      <th>4</th>\n",
       "      <td>5</td>\n",
       "      <td>Blouse</td>\n",
       "      <td>2.7</td>\n",
       "    </tr>\n",
       "  </tbody>\n",
       "</table>\n",
       "</div>"
      ],
      "text/plain": [
       "   Customer ID Item Purchased  Review Rating\n",
       "0            1         Blouse            3.1\n",
       "1            2        Sweater            3.1\n",
       "2            3          Jeans            3.1\n",
       "3            4        Sandals            3.5\n",
       "4            5         Blouse            2.7"
      ]
     },
     "execution_count": 21,
     "metadata": {},
     "output_type": "execute_result"
    }
   ],
   "source": [
    "cf_data = data[['Customer ID','Item Purchased','Review Rating']]\n",
    "\n",
    "cf_data.head()"
   ]
  },
  {
   "cell_type": "markdown",
   "id": "21a07402",
   "metadata": {},
   "source": [
    "### Model training and prediction using surprise "
   ]
  },
  {
   "cell_type": "code",
   "execution_count": 22,
   "id": "e6da561b",
   "metadata": {},
   "outputs": [],
   "source": [
    "from surprise import Dataset, Reader, SVD\n",
    "from surprise.model_selection import cross_validate, train_test_split\n",
    "from sklearn.metrics import mean_squared_error\n",
    "from math import sqrt"
   ]
  },
  {
   "cell_type": "code",
   "execution_count": 23,
   "id": "b8c89d98",
   "metadata": {},
   "outputs": [
    {
     "name": "stdout",
     "output_type": "stream",
     "text": [
      "RMSE: 0.7182\n",
      "Collaborative Filtering RMSE: 0.718226619604839\n"
     ]
    }
   ],
   "source": [
    "# Define a reader object with the rating_scale\n",
    "reader = Reader(rating_scale=(1,5))\n",
    "\n",
    "#Load the data from the dataframe\n",
    "data_2 = Dataset.load_from_df(cf_data,reader)\n",
    "\n",
    "# split into train and tests sets\n",
    "train, test = train_test_split(data_2, test_size=0.2, random_state=42)\n",
    "\n",
    "# Intialize the SVD algorithm\n",
    "algo = SVD()\n",
    "\n",
    "# train the algorithm on the trainset\n",
    "algo.fit(train)\n",
    "\n",
    "# Make predictions on the testset\n",
    "predictions = algo.test(test)\n",
    "\n",
    "# evaluate the performance\n",
    "from surprise import accuracy\n",
    "\n",
    "rmse = accuracy.rmse(predictions)\n",
    "print(f\"Collaborative Filtering RMSE: {rmse}\")"
   ]
  },
  {
   "cell_type": "markdown",
   "id": "c3efd807",
   "metadata": {},
   "source": [
    "### Making the recommendations"
   ]
  },
  {
   "cell_type": "code",
   "execution_count": 27,
   "id": "1de5dbf1",
   "metadata": {},
   "outputs": [
    {
     "name": "stdout",
     "output_type": "stream",
     "text": [
      "Collaborative Filtering Recommendations for user 1: ['Socks', 'Coat', 'Belt', 'Jacket', 'Sandals']\n"
     ]
    }
   ],
   "source": [
    "def get_collaborative_recommendations(user_id, top_n=5):\n",
    "    #get all items\n",
    "    all_items = data['Item Purchased'].unique()\n",
    "    \n",
    "    # get items already interacted with by the user\n",
    "    user_items = data[data['Customer ID'] == user_id]['Item Purchased'].unique()\n",
    "    \n",
    "    #get items not yet interacted \n",
    "    items_to_predict = [item for item in all_items if item not in user_items]\n",
    "    \n",
    "    #predict ratings for these items\n",
    "    predictions = [algo.predict(user_id, item) for item in items_to_predict]\n",
    "    \n",
    "    #sort predictions by estimated rating\n",
    "    predictions.sort(key=lambda x: x.est, reverse = True)\n",
    "    \n",
    "    # get the top n recommendations\n",
    "    top_recommendations = predictions[:top_n]\n",
    "    \n",
    "    #return the recommended item names\n",
    "    return [pred.iid for pred in top_recommendations]\n",
    "\n",
    "\n",
    "#example usage\n",
    "user_id = 1\n",
    "recommended_items_cf = get_collaborative_recommendations(user_id)\n",
    "print(f\"Collaborative Filtering Recommendations for user {user_id}:\", recommended_items_cf)"
   ]
  },
  {
   "cell_type": "code",
   "execution_count": 30,
   "id": "9b1ac2cc",
   "metadata": {},
   "outputs": [
    {
     "name": "stdout",
     "output_type": "stream",
     "text": [
      "Collaborative Filtering Recommendations for user 11: ['T-shirt', 'Gloves', 'Belt', 'Jeans', 'Dress']\n"
     ]
    }
   ],
   "source": [
    "def get_collaborative_recommendations(user_id, top_n=5):\n",
    "    #get all items\n",
    "    all_items = data['Item Purchased'].unique()\n",
    "    \n",
    "    # get items already interacted with by the user\n",
    "    user_items = data[data['Customer ID'] == user_id]['Item Purchased'].unique()\n",
    "    \n",
    "    #get items not yet interacted \n",
    "    items_to_predict = [item for item in all_items if item not in user_items]\n",
    "    \n",
    "    #predict ratings for these items\n",
    "    predictions = [algo.predict(user_id, item) for item in items_to_predict]\n",
    "    \n",
    "    #sort predictions by estimated rating\n",
    "    predictions.sort(key=lambda x: x.est, reverse = True)\n",
    "    \n",
    "    # get the top n recommendations\n",
    "    top_recommendations = predictions[:top_n]\n",
    "    \n",
    "    #return the recommended item names\n",
    "    return [pred.iid for pred in top_recommendations]\n",
    "\n",
    "\n",
    "#example usage\n",
    "user_id = 11\n",
    "recommended_items_cf = get_collaborative_recommendations(user_id)\n",
    "print(f\"Collaborative Filtering Recommendations for user {user_id}:\", recommended_items_cf)"
   ]
  },
  {
   "cell_type": "code",
   "execution_count": null,
   "id": "067627ca",
   "metadata": {},
   "outputs": [],
   "source": []
  }
 ],
 "metadata": {
  "kernelspec": {
   "display_name": "Python 3 (ipykernel)",
   "language": "python",
   "name": "python3"
  },
  "language_info": {
   "codemirror_mode": {
    "name": "ipython",
    "version": 3
   },
   "file_extension": ".py",
   "mimetype": "text/x-python",
   "name": "python",
   "nbconvert_exporter": "python",
   "pygments_lexer": "ipython3",
   "version": "3.11.5"
  }
 },
 "nbformat": 4,
 "nbformat_minor": 5
}
